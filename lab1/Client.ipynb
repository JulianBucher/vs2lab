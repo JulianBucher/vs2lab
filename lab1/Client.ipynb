{
 "cells": [
  {
   "cell_type": "markdown",
   "metadata": {},
   "source": [
    "# Running server and client in separate notebooks - client part\n",
    "\n",
    "Here we start the client. The server needs to be started first. Lets go...."
   ]
  },
  {
   "cell_type": "code",
   "execution_count": 1,
   "metadata": {},
   "outputs": [
    {
     "name": "stderr",
     "output_type": "stream",
     "text": [
      "2024-11-07 14:53:39,377 - vs2lab.a1_layers.clientserver.Client - INFO - Client connected to socket <socket.socket fd=68, family=2, type=1, proto=0, laddr=('127.0.0.1', 48044), raddr=('127.0.0.1', 50007)>\n",
      "2024-11-07 14:53:39,383 - vs2lab.a1_layers.clientserver.Client - INFO - receiving answer from socket\n",
      "2024-11-07 14:53:39,387 - vs2lab.a1_layers.clientserver.Client - INFO - Client down.\n"
     ]
    },
    {
     "name": "stdout",
     "output_type": "stream",
     "text": [
      "{'alice': 1234567, 'bob': 2345678, 'carol': 3456789}\n"
     ]
    },
    {
     "data": {
      "text/plain": [
       "\"{'alice': 1234567, 'bob': 2345678, 'carol': 3456789}\""
      ]
     },
     "execution_count": 1,
     "metadata": {},
     "output_type": "execute_result"
    }
   ],
   "source": [
    "import clientserver # import from our script\n",
    "\n",
    "client = clientserver.Client() # Create a client instance\n",
    "\n",
    "client.call(\"GETALL\") # start the call and print echo\n"
   ]
  },
  {
   "cell_type": "code",
   "execution_count": 1,
   "metadata": {},
   "outputs": [
    {
     "name": "stderr",
     "output_type": "stream",
     "text": [
      "2024-11-07 15:05:07,369 - vs2lab.a1_layers.clientserver.Client - INFO - Client connected to socket <socket.socket fd=68, family=2, type=1, proto=0, laddr=('127.0.0.1', 45612), raddr=('127.0.0.1', 50007)>\n",
      "2024-11-07 15:05:07,373 - vs2lab.a1_layers.clientserver.Client - INFO - receiving answer from socket\n",
      "2024-11-07 15:05:07,375 - vs2lab.a1_layers.clientserver.Client - INFO - Client down.\n"
     ]
    },
    {
     "name": "stdout",
     "output_type": "stream",
     "text": [
      "{'alice': 1234567, 'bob': 2345678, 'carol': 3456789}\n"
     ]
    },
    {
     "data": {
      "text/plain": [
       "\"{'alice': 1234567, 'bob': 2345678, 'carol': 3456789}\""
      ]
     },
     "execution_count": 1,
     "metadata": {},
     "output_type": "execute_result"
    }
   ],
   "source": [
    "\n",
    "import clientserver # import from our script\n",
    "\n",
    "client = clientserver.Client() # Create a client instance\n",
    "\n",
    "client.getall()# (\"GET Alice\") # start the call and print echo"
   ]
  },
  {
   "cell_type": "code",
   "execution_count": null,
   "metadata": {},
   "outputs": [],
   "source": []
  },
  {
   "cell_type": "markdown",
   "metadata": {},
   "source": [
    "Finished."
   ]
  }
 ],
 "metadata": {
  "kernelspec": {
   "display_name": "Python 3",
   "language": "python",
   "name": "python3"
  },
  "language_info": {
   "codemirror_mode": {
    "name": "ipython",
    "version": 3
   },
   "file_extension": ".py",
   "mimetype": "text/x-python",
   "name": "python",
   "nbconvert_exporter": "python",
   "pygments_lexer": "ipython3",
   "version": "3.11.4"
  }
 },
 "nbformat": 4,
 "nbformat_minor": 4
}
